{
 "cells": [
  {
   "cell_type": "code",
   "execution_count": 1,
   "id": "a72b5884-de0b-4096-bd2f-6883c755c34a",
   "metadata": {},
   "outputs": [],
   "source": [
    "import cv2\n",
    "from yolo_predictions import YOLO_Pred"
   ]
  },
  {
   "cell_type": "code",
   "execution_count": 2,
   "id": "5fc4d75c-69c9-4cc9-b6d1-a5a441317a71",
   "metadata": {},
   "outputs": [],
   "source": [
    "yolo = YOLO_Pred('./Model2/weights/best.onnx', 'data5.yaml')"
   ]
  },
  {
   "cell_type": "code",
   "execution_count": 3,
   "id": "eb322d79-dcd8-4c57-ae9e-22210f0740f7",
   "metadata": {},
   "outputs": [],
   "source": [
    "img = cv2.imread('./img1.jpg')\n",
    "# cv2.imshow('img', img)\n",
    "# cv2.waitKey(0)\n",
    "# cv2.destroyAllWindows()"
   ]
  },
  {
   "cell_type": "code",
   "execution_count": 4,
   "id": "bb0baa4b-b8b1-4c66-816c-8d82411a3863",
   "metadata": {},
   "outputs": [],
   "source": [
    "img_pred = yolo.predictions(img)"
   ]
  },
  {
   "cell_type": "code",
   "execution_count": 5,
   "id": "300c7a7e-2fc0-4ec0-a182-7725070cef0e",
   "metadata": {},
   "outputs": [],
   "source": [
    "cv2.imshow('predictions image', img_pred)\n",
    "cv2.waitKey(0)\n",
    "cv2.destroyAllWindows()"
   ]
  },
  {
   "cell_type": "code",
   "execution_count": null,
   "id": "45596b72-c823-452c-b7f6-8560f8a8434f",
   "metadata": {},
   "outputs": [],
   "source": [
    "# REAL TIME OBJECT DETECTION\n",
    "\n",
    "cap = cv2.VideoCapture('video.mp4')\n",
    "while True:\n",
    "    ret, frame = cap.read()\n",
    "    if ret == False:\n",
    "        print('Unable to read video')\n",
    "        break\n",
    "\n",
    "    pred_img = yolo.predictions(frame)\n",
    "    cv2.imshow('YOLO', pred_img)\n",
    "    if cv2.waitKey(1) == 27:\n",
    "        break\n",
    "\n",
    "cv2.destroyAllWindows()\n",
    "cap.release()"
   ]
  },
  {
   "cell_type": "code",
   "execution_count": null,
   "id": "35a208bd-fab4-4150-8658-635e25a7832d",
   "metadata": {},
   "outputs": [],
   "source": []
  }
 ],
 "metadata": {
  "kernelspec": {
   "display_name": "Python 3 (ipykernel)",
   "language": "python",
   "name": "python3"
  },
  "language_info": {
   "codemirror_mode": {
    "name": "ipython",
    "version": 3
   },
   "file_extension": ".py",
   "mimetype": "text/x-python",
   "name": "python",
   "nbconvert_exporter": "python",
   "pygments_lexer": "ipython3",
   "version": "3.10.7"
  }
 },
 "nbformat": 4,
 "nbformat_minor": 5
}
